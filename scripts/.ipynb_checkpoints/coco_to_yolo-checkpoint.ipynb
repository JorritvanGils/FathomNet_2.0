{
 "cells": [
  {
   "cell_type": "code",
   "execution_count": 1,
   "id": "9f882fb4-606a-4623-84ce-acdf06a86e72",
   "metadata": {},
   "outputs": [
    {
     "name": "stderr",
     "output_type": "stream",
     "text": [
      "C:\\Users\\jorri\\anaconda3\\lib\\site-packages\\numpy\\_distributor_init.py:30: UserWarning: loaded more than 1 DLL from .libs:\n",
      "C:\\Users\\jorri\\anaconda3\\lib\\site-packages\\numpy\\.libs\\libopenblas.WCDJNK7YVMPZQ2ME2ZZHJJRJ3JIKNDB7.gfortran-win_amd64.dll\n",
      "C:\\Users\\jorri\\anaconda3\\lib\\site-packages\\numpy\\.libs\\libopenblas64__v0.3.21-gcc_10_3_0.dll\n",
      "  warnings.warn(\"loaded more than 1 DLL from .libs:\"\n"
     ]
    }
   ],
   "source": [
    "import os\n",
    "import json\n",
    "import cv2\n",
    "import matplotlib.pyplot as plt\n",
    "import shutil\n",
    "import pandas as pd\n",
    "from tqdm import tqdm"
   ]
  },
  {
   "cell_type": "code",
   "execution_count": 19,
   "id": "0486ad03",
   "metadata": {},
   "outputs": [],
   "source": [
    "cwd = os.getcwd()\n",
    "fathomnet_path = os.path.abspath(os.path.join(cwd, '..'))\n",
    "datasets_path = os.path.abspath(os.path.join(cwd, '..', 'datasets'))\n",
    "os.chdir(datasets_path)\n",
    "os.makedirs(os.path.join(datasets_path, 'FN_23_coco'), exist_ok=True)\n",
    "os.makedirs(os.path.join(datasets_path, 'FN_23_yolo/train/images'), exist_ok=True)\n",
    "os.makedirs(os.path.join(datasets_path, 'FN_23_yolo/train/labels'), exist_ok=True)\n",
    "os.makedirs(os.path.join(datasets_path, 'FN_23_yolo/valid/images'), exist_ok=True)\n",
    "os.makedirs(os.path.join(datasets_path, 'FN_23_yolo/valid/labels'), exist_ok=True)\n",
    "os.makedirs(os.path.join(datasets_path, 'FN_23_yolo/test/images'), exist_ok=True)\n",
    "os.makedirs(os.path.join(datasets_path, 'FN_23_yolo/test/labels'), exist_ok=True)\n",
    "# !mkdir -p FN_23_yolo/test/labels"
   ]
  },
  {
   "cell_type": "code",
   "execution_count": 20,
   "id": "06c3ce31-b948-4357-b19e-266bf478bd22",
   "metadata": {},
   "outputs": [],
   "source": [
    "# # # ONLY RUN ONCE FOR SET UP DIRECTORIES\n",
    "# SCRATCH = os.getenv('SCRATCH')\n",
    "# os.chdir(SCRATCH)\n",
    "# !mkdir -p Jorrit/datasets/CCT20_coco\n",
    "# !mkdir -p Jorrit/datasets/CCT20_yolo/train/images\n",
    "# !mkdir -p Jorrit/datasets/CCT20_yolo/train/labels\n",
    "# !mkdir -p Jorrit/datasets/CCT20_yolo/valid/images\n",
    "# !mkdir -p Jorrit/datasets/CCT20_yolo/valid/labels\n",
    "# !mkdir -p Jorrit/datasets/CCT20_yolo/test/images\n",
    "# !mkdir -p Jorrit/datasets/CCT20_yolo/test/labels\n",
    "# # DOWNLOAD DATASET WITH ASCOPY to the CCT20_COCO DIR + RUN TAR (see terminal commands)"
   ]
  },
  {
   "cell_type": "code",
   "execution_count": 21,
   "id": "cc43e184",
   "metadata": {},
   "outputs": [
    {
     "name": "stdout",
     "output_type": "stream",
     "text": [
      "output_path = C:/Users/jorri/fathomnet/datasets/FN_23_yolo/train/\n"
     ]
    }
   ],
   "source": [
    "datasets_dir = 'C:/Users/jorri/fathomnet/datasets'\n",
    "output_path_train = os.path.join(datasets_dir, 'FN_23_yolo/train/') # for train_annotations.json\n",
    "output_path_valid = os.path.join(datasets_dir, 'FN_23_yolo/valid/') # for cis_val_annotations.json\n",
    "output_path_test = os.path.join(datasets_dir, 'FN_23_yolo/train/') # for cis_test_annotations.json \n",
    "\n",
    "# CHOOSE OUTPUT_PATH: train, valid, test\n",
    "output_path = output_path_train.replace('\\\\', '/')\n",
    "print('output_path = ' + output_path)"
   ]
  },
  {
   "cell_type": "code",
   "execution_count": 22,
   "id": "43e4db9e-9f92-43e8-a1b7-eb03f8996f8f",
   "metadata": {},
   "outputs": [],
   "source": [
    "# SCRATCH = os.getenv('SCRATCH')\n",
    "# output_path_train = SCRATCH + \"/Jorrit/datasets/CCT20_yolo/train/\" # for train_annotations.json\n",
    "# output_path_valid = SCRATCH + \"/Jorrit/datasets/CCT20_yolo/valid/\" # for cis_val_annotations.json\n",
    "# output_path_test = SCRATCH + \"/Jorrit/datasets/CCT20_yolo/test/\" # for cis_test_annotations.json \n",
    "\n",
    "# # CHOOSE OUTPUT_PATH: train, valid, test\n",
    "# output_path = output_path_test\n",
    "# print('output_path = ' + output_path)"
   ]
  },
  {
   "cell_type": "code",
   "execution_count": 23,
   "id": "9eac2a9c-323d-4cff-b985-666c889c8617",
   "metadata": {},
   "outputs": [
    {
     "name": "stdout",
     "output_type": "stream",
     "text": [
      "images in /train.json 5950\n",
      "images in /eval.json 10744\n"
     ]
    }
   ],
   "source": [
    "with open(os.path.join(fathomnet_path, 'object_detection', 'train.json')) as f:\n",
    "    dict_train = json.load(f)\n",
    "with open(os.path.join(fathomnet_path, 'object_detection', 'eval.json')) as f:\n",
    "    dict_eval = json.load(f)\n",
    "\n",
    "    \n",
    "print(\"images in /train.json\", len(dict_train[\"images\"]))\n",
    "print(\"images in /eval.json\", len(dict_eval[\"images\"]))\n",
    "\n",
    "    \n",
    "# CHOOSE ANNOTATION_DICT: dict_train, dict_eval\n",
    "annotation_dict = dict_train"
   ]
  },
  {
   "cell_type": "code",
   "execution_count": 24,
   "id": "6693b046-7ff9-4920-a731-04c2f5cdfc0c",
   "metadata": {},
   "outputs": [
    {
     "name": "stdout",
     "output_type": "stream",
     "text": [
      "dict_keys(['info', 'images', 'licenses', 'annotations', 'categories'])\n",
      "{'id': 1, 'name': 'Actiniaria', 'supercategory': 'Anemone'}\n",
      "{'id': 1, 'width': 720, 'height': 368, 'file_name': '3b6f01ae-5bde-434d-9b06-79b269421ed6.png', 'license': 0, 'flickr_url': 'https://fathomnet.org/static/m3/framegrabs/Tiburon/images/1120/03_50_15_04.png', 'coco_url': 'https://fathomnet.org/static/m3/framegrabs/Tiburon/images/1120/03_50_15_04.png', 'date_captured': '2007-08-17 17:50:34'}\n",
      "3b6f01ae-5bde-434d-9b06-79b269421ed6.png\n",
      "{'id': 1, 'image_id': 1, 'category_id': 1.0, 'segmentation': [], 'area': 7869.0, 'bbox': [347.0, 188.0, 129.0, 61.0], 'iscrowd': 0}\n",
      "[{'id': 1, 'name': 'Actiniaria', 'supercategory': 'Anemone'}, {'id': 2, 'name': 'Actinernus', 'supercategory': 'Anemone'}, {'id': 3, 'name': 'Actiniidae', 'supercategory': 'Anemone'}, {'id': 4, 'name': 'Actinoscyphia', 'supercategory': 'Anemone'}, {'id': 5, 'name': 'Bolocera', 'supercategory': 'Anemone'}, {'id': 6, 'name': 'Dofleinia', 'supercategory': 'Anemone'}, {'id': 7, 'name': 'Hormathiidae', 'supercategory': 'Anemone'}, {'id': 8, 'name': 'Isosicyonis', 'supercategory': 'Anemone'}, {'id': 9, 'name': 'Liponema brevicorne', 'supercategory': 'Anemone'}, {'id': 10, 'name': 'Metridium farcimen', 'supercategory': 'Anemone'}, {'id': 11, 'name': 'Actinopterygii', 'supercategory': 'Fish'}, {'id': 12, 'name': 'Agonidae', 'supercategory': 'Fish'}, {'id': 13, 'name': 'Albatrossia pectoralis', 'supercategory': 'Fish'}, {'id': 14, 'name': 'Alepocephalus tenebrosus', 'supercategory': 'Fish'}, {'id': 15, 'name': 'Anarrhichthys ocellatus', 'supercategory': 'Fish'}, {'id': 16, 'name': 'Anoplopoma fimbria', 'supercategory': 'Fish'}, {'id': 17, 'name': 'Antimora microlepis', 'supercategory': 'Fish'}, {'id': 18, 'name': 'Bathypterois', 'supercategory': 'Fish'}, {'id': 19, 'name': 'Bathysaurus mollis', 'supercategory': 'Fish'}, {'id': 20, 'name': 'Careproctus', 'supercategory': 'Fish'}, {'id': 21, 'name': 'Careproctus kamikawai', 'supercategory': 'Fish'}, {'id': 22, 'name': 'Careproctus melanurus', 'supercategory': 'Fish'}, {'id': 23, 'name': 'Careproctus ovigerus', 'supercategory': 'Fish'}, {'id': 24, 'name': 'Cataetyx', 'supercategory': 'Fish'}, {'id': 25, 'name': 'Chaunacops coloratus', 'supercategory': 'Fish'}, {'id': 26, 'name': 'Chilara taylori', 'supercategory': 'Fish'}, {'id': 27, 'name': 'Coryphaenoides', 'supercategory': 'Fish'}, {'id': 28, 'name': 'Gobiidae', 'supercategory': 'Fish'}, {'id': 29, 'name': 'Icelinus', 'supercategory': 'Fish'}, {'id': 30, 'name': 'Icelinus filamentosus', 'supercategory': 'Fish'}, {'id': 31, 'name': 'Lepidion', 'supercategory': 'Fish'}, {'id': 32, 'name': 'Liparidae', 'supercategory': 'Fish'}, {'id': 33, 'name': 'Lophiiformes', 'supercategory': 'Fish'}, {'id': 34, 'name': 'Luciobrotula', 'supercategory': 'Fish'}, {'id': 35, 'name': 'Lumpenus sagitta', 'supercategory': 'Fish'}, {'id': 36, 'name': 'Macrouridae', 'supercategory': 'Fish'}, {'id': 37, 'name': 'Merluccius productus', 'supercategory': 'Fish'}, {'id': 38, 'name': 'Moridae', 'supercategory': 'Fish'}, {'id': 39, 'name': 'Myctophidae', 'supercategory': 'Fish'}, {'id': 40, 'name': 'Nezumia liolepis', 'supercategory': 'Fish'}, {'id': 41, 'name': 'Nezumia stelgidolepis', 'supercategory': 'Fish'}, {'id': 42, 'name': 'Ophidiidae', 'supercategory': 'Fish'}, {'id': 43, 'name': 'Ophiodon elongatus', 'supercategory': 'Fish'}, {'id': 44, 'name': 'Paralepididae', 'supercategory': 'Fish'}, {'id': 45, 'name': 'Paraliparis', 'supercategory': 'Fish'}, {'id': 46, 'name': 'Plectobranchus evides', 'supercategory': 'Fish'}, {'id': 47, 'name': 'Porichthys mimeticus', 'supercategory': 'Fish'}, {'id': 48, 'name': 'Psychrolutes phrictus', 'supercategory': 'Fish'}, {'id': 49, 'name': 'Psychrolutidae', 'supercategory': 'Fish'}, {'id': 50, 'name': 'Scorpaeniformes', 'supercategory': 'Fish'}, {'id': 51, 'name': 'Sebastes', 'supercategory': 'Fish'}, {'id': 52, 'name': 'Sebastolobus', 'supercategory': 'Fish'}, {'id': 53, 'name': 'Spectrunculus grandis', 'supercategory': 'Fish'}, {'id': 54, 'name': 'Xeneretmus', 'supercategory': 'Fish'}, {'id': 55, 'name': 'Zaniolepis frenata', 'supercategory': 'Fish'}, {'id': 56, 'name': 'Zaniolepis latipinnis', 'supercategory': 'Fish'}, {'id': 57, 'name': 'Anguilliformes', 'supercategory': 'Eel'}, {'id': 58, 'name': 'Nettastoma parviceps', 'supercategory': 'Eel'}, {'id': 59, 'name': 'Ophichthus frontalis', 'supercategory': 'Eel'}, {'id': 60, 'name': 'Synaphobranchidae', 'supercategory': 'Eel'}, {'id': 61, 'name': 'Eptatretus', 'supercategory': 'Eel'}, {'id': 62, 'name': 'Bothrocara brunneum', 'supercategory': 'Eel'}, {'id': 63, 'name': 'Eucryphycus californicus', 'supercategory': 'Eel'}, {'id': 64, 'name': 'Lycenchelys', 'supercategory': 'Eel'}, {'id': 65, 'name': 'Lycenchelys crotalinus', 'supercategory': 'Eel'}, {'id': 66, 'name': 'Lycodapus', 'supercategory': 'Eel'}, {'id': 67, 'name': 'Lycodes', 'supercategory': 'Eel'}, {'id': 68, 'name': 'Lycodes brevipes', 'supercategory': 'Eel'}, {'id': 69, 'name': 'Lycodes cortezianus', 'supercategory': 'Eel'}, {'id': 70, 'name': 'Lycodes diapterus', 'supercategory': 'Eel'}, {'id': 71, 'name': 'Lycodes pacificus', 'supercategory': 'Eel'}, {'id': 72, 'name': 'Pachycara bulbiceps', 'supercategory': 'Eel'}, {'id': 73, 'name': 'Zoarcidae', 'supercategory': 'Eel'}, {'id': 74, 'name': 'Aeolidiidae sp. 1', 'supercategory': 'Gastropod'}, {'id': 75, 'name': 'Akoya platinum', 'supercategory': 'Gastropod'}, {'id': 76, 'name': 'Bathybembix', 'supercategory': 'Gastropod'}, {'id': 77, 'name': 'Bathydoris aioca', 'supercategory': 'Gastropod'}, {'id': 78, 'name': 'Buccinidae', 'supercategory': 'Gastropod'}, {'id': 79, 'name': 'Caenogastropoda', 'supercategory': 'Gastropod'}, {'id': 80, 'name': 'Dendronotus patricki', 'supercategory': 'Gastropod'}, {'id': 81, 'name': 'Gastropoda', 'supercategory': 'Gastropod'}, {'id': 82, 'name': 'Neptunea-Buccinum Complex', 'supercategory': 'Gastropod'}, {'id': 83, 'name': 'Nudibranchia', 'supercategory': 'Gastropod'}, {'id': 84, 'name': 'Patellogastropoda', 'supercategory': 'Gastropod'}, {'id': 85, 'name': 'Pleurobranchaea californica', 'supercategory': 'Gastropod'}, {'id': 86, 'name': 'Tritonia tetraquetra', 'supercategory': 'Gastropod'}, {'id': 87, 'name': 'Ziminella vrijenhoeki', 'supercategory': 'Gastropod'}, {'id': 88, 'name': 'Asteroidea', 'supercategory': 'Sea star'}, {'id': 89, 'name': 'Asthenactis', 'supercategory': 'Sea star'}, {'id': 90, 'name': 'Astropecten', 'supercategory': 'Sea star'}, {'id': 91, 'name': 'Benthopecten', 'supercategory': 'Sea star'}, {'id': 92, 'name': 'Ceramaster', 'supercategory': 'Sea star'}, {'id': 93, 'name': 'Crossaster', 'supercategory': 'Sea star'}, {'id': 94, 'name': 'Dipsacaster eximius', 'supercategory': 'Sea star'}, {'id': 95, 'name': 'Dytaster gilberti', 'supercategory': 'Sea star'}, {'id': 96, 'name': 'Forcipulatida', 'supercategory': 'Sea star'}, {'id': 97, 'name': 'Goniasteridae', 'supercategory': 'Sea star'}, {'id': 98, 'name': 'Henricia', 'supercategory': 'Sea star'}, {'id': 99, 'name': 'Solasteridae', 'supercategory': 'Sea star'}, {'id': 100, 'name': 'Hippasteria', 'supercategory': 'Sea star'}, {'id': 101, 'name': 'Hymenaster', 'supercategory': 'Sea star'}, {'id': 102, 'name': 'Lophaster', 'supercategory': 'Sea star'}, {'id': 103, 'name': 'Luidia foliolata', 'supercategory': 'Sea star'}, {'id': 104, 'name': 'Mediaster', 'supercategory': 'Sea star'}, {'id': 105, 'name': 'Mediaster aequalis', 'supercategory': 'Sea star'}, {'id': 106, 'name': 'Mediaster tenellus', 'supercategory': 'Sea star'}, {'id': 107, 'name': 'Myxoderma', 'supercategory': 'Sea star'}, {'id': 108, 'name': 'Myxoderma platyacanthum', 'supercategory': 'Sea star'}, {'id': 109, 'name': 'Myxoderma sacculatum', 'supercategory': 'Sea star'}, {'id': 110, 'name': 'Patiria miniata', 'supercategory': 'Sea star'}, {'id': 111, 'name': 'Paulasterias mcclaini', 'supercategory': 'Sea star'}, {'id': 112, 'name': 'Paxillosida', 'supercategory': 'Sea star'}, {'id': 113, 'name': 'Peribolaster biserialis', 'supercategory': 'Sea star'}, {'id': 114, 'name': 'Poraniopsis', 'supercategory': 'Sea star'}, {'id': 115, 'name': 'Poraniopsis inflata', 'supercategory': 'Sea star'}, {'id': 116, 'name': 'Pterasteridae', 'supercategory': 'Sea star'}, {'id': 117, 'name': 'Pycnopodia helianthoides', 'supercategory': 'Sea star'}, {'id': 118, 'name': 'Pythonaster pacificus', 'supercategory': 'Sea star'}, {'id': 119, 'name': 'Rathbunaster californicus', 'supercategory': 'Sea star'}, {'id': 120, 'name': 'Stylasterias forreri', 'supercategory': 'Sea star'}, {'id': 121, 'name': 'Thrissacanthias penicillatus', 'supercategory': 'Sea star'}, {'id': 122, 'name': 'Valvatida', 'supercategory': 'Sea star'}, {'id': 123, 'name': 'Zoroasteridae', 'supercategory': 'Sea star'}, {'id': 124, 'name': 'Antedonidae', 'supercategory': 'Feather star'}, {'id': 125, 'name': 'Crinoidea', 'supercategory': 'Feather star'}, {'id': 126, 'name': 'Bathycrinidae', 'supercategory': 'Feather star'}, {'id': 127, 'name': 'Bathymetrinae', 'supercategory': 'Feather star'}, {'id': 128, 'name': 'Hyocrinidae', 'supercategory': 'Feather star'}, {'id': 129, 'name': 'Pentametrocrinus paucispinulus', 'supercategory': 'Feather star'}, {'id': 130, 'name': 'Abyssocucumis abyssorum', 'supercategory': 'Sea cucumber'}, {'id': 131, 'name': 'Apostichopus', 'supercategory': 'Sea cucumber'}, {'id': 132, 'name': 'Apostichopus californicus', 'supercategory': 'Sea cucumber'}, {'id': 133, 'name': 'Apostichopus leukothele', 'supercategory': 'Sea cucumber'}, {'id': 134, 'name': 'Benthodytes', 'supercategory': 'Sea cucumber'}, {'id': 135, 'name': 'Benthothuria', 'supercategory': 'Sea cucumber'}, {'id': 136, 'name': 'Elpidia', 'supercategory': 'Sea cucumber'}, {'id': 137, 'name': 'Holothuria (Vaneyothuria) zacae', 'supercategory': 'Sea cucumber'}, {'id': 138, 'name': 'Holothuroidea', 'supercategory': 'Sea cucumber'}, {'id': 139, 'name': 'Laetmogone', 'supercategory': 'Sea cucumber'}, {'id': 140, 'name': 'Oneirophanta mutabilis complex', 'supercategory': 'Sea cucumber'}, {'id': 141, 'name': 'Paelopatides confundens', 'supercategory': 'Sea cucumber'}, {'id': 142, 'name': 'Pannychia', 'supercategory': 'Sea cucumber'}, {'id': 143, 'name': 'Peniagone', 'supercategory': 'Sea cucumber'}, {'id': 144, 'name': 'Pseudostichopus mollis', 'supercategory': 'Sea cucumber'}, {'id': 145, 'name': 'Psolidae', 'supercategory': 'Sea cucumber'}, {'id': 146, 'name': 'Psolus squamatus', 'supercategory': 'Sea cucumber'}, {'id': 147, 'name': 'Psychronaetes', 'supercategory': 'Sea cucumber'}, {'id': 148, 'name': 'Psychropotes depressa', 'supercategory': 'Sea cucumber'}, {'id': 149, 'name': 'Psychropotidae', 'supercategory': 'Sea cucumber'}, {'id': 150, 'name': 'Scotoplanes', 'supercategory': 'Sea cucumber'}, {'id': 151, 'name': 'Synallactes', 'supercategory': 'Sea cucumber'}, {'id': 152, 'name': 'Aporocidaris milleri', 'supercategory': 'Urchin'}, {'id': 153, 'name': 'Brisaster', 'supercategory': 'Urchin'}, {'id': 154, 'name': 'Cystechinus giganteus', 'supercategory': 'Urchin'}, {'id': 155, 'name': 'Cystechinus loveni', 'supercategory': 'Urchin'}, {'id': 156, 'name': 'Cystocrepis setigera', 'supercategory': 'Urchin'}, {'id': 157, 'name': 'Echinoidea', 'supercategory': 'Urchin'}, {'id': 158, 'name': 'Echinocrepis rostrata', 'supercategory': 'Urchin'}, {'id': 159, 'name': 'Echinothuriidae', 'supercategory': 'Urchin'}, {'id': 160, 'name': 'Strongylocentrotus fragilis', 'supercategory': 'Urchin'}, {'id': 161, 'name': 'Tromikosoma', 'supercategory': 'Urchin'}, {'id': 162, 'name': 'Acanthascinae', 'supercategory': 'Glass sponge'}, {'id': 163, 'name': 'Bathydorus', 'supercategory': 'Glass sponge'}, {'id': 164, 'name': 'Bolosominae', 'supercategory': 'Glass sponge'}, {'id': 165, 'name': 'Caulophacus', 'supercategory': 'Glass sponge'}, {'id': 166, 'name': 'Chonelasma', 'supercategory': 'Glass sponge'}, {'id': 167, 'name': 'Corbitellinae', 'supercategory': 'Glass sponge'}, {'id': 168, 'name': 'Dictyocalyx', 'supercategory': 'Glass sponge'}, {'id': 169, 'name': 'Docosaccus maculatus', 'supercategory': 'Glass sponge'}, {'id': 170, 'name': 'Euplectellidae', 'supercategory': 'Glass sponge'}, {'id': 171, 'name': 'Farrea', 'supercategory': 'Glass sponge'}, {'id': 172, 'name': 'Farrea truncata complex', 'supercategory': 'Glass sponge'}, {'id': 173, 'name': 'Heterochone calyx', 'supercategory': 'Glass sponge'}, {'id': 174, 'name': 'Hexactinellida', 'supercategory': 'Glass sponge'}, {'id': 175, 'name': 'Hyalonema', 'supercategory': 'Glass sponge'}, {'id': 176, 'name': 'Hyalonema (Corynonema) populiferum', 'supercategory': 'Glass sponge'}, {'id': 177, 'name': 'Hyalonema (Oonema) bianchoratum', 'supercategory': 'Glass sponge'}, {'id': 178, 'name': 'Lyssacinosida sp. 1', 'supercategory': 'Glass sponge'}, {'id': 179, 'name': 'Regadrella', 'supercategory': 'Glass sponge'}, {'id': 180, 'name': 'Rossellidae', 'supercategory': 'Glass sponge'}, {'id': 181, 'name': 'Sclerothamnopsis', 'supercategory': 'Glass sponge'}, {'id': 182, 'name': 'Staurocalyptus', 'supercategory': 'Glass sponge'}, {'id': 183, 'name': 'Staurocalyptus solidus', 'supercategory': 'Glass sponge'}, {'id': 184, 'name': 'yellow ruffled sponge', 'supercategory': 'Glass sponge'}, {'id': 185, 'name': 'Calyptrophora', 'supercategory': 'Sea fan'}, {'id': 186, 'name': 'Chrysogorgia', 'supercategory': 'Sea fan'}, {'id': 187, 'name': 'Chrysogorgia monticola', 'supercategory': 'Sea fan'}, {'id': 188, 'name': 'Chrysogorgia pinnata', 'supercategory': 'Sea fan'}, {'id': 189, 'name': 'Iridogorgia', 'supercategory': 'Sea fan'}, {'id': 190, 'name': 'Isidella', 'supercategory': 'Sea fan'}, {'id': 191, 'name': 'Isidella tentaculum', 'supercategory': 'Sea fan'}, {'id': 192, 'name': 'Isididae', 'supercategory': 'Sea fan'}, {'id': 193, 'name': 'Keratoisis', 'supercategory': 'Sea fan'}, {'id': 194, 'name': 'Lepidisis', 'supercategory': 'Sea fan'}, {'id': 195, 'name': 'Parastenella', 'supercategory': 'Sea fan'}, {'id': 196, 'name': 'Primnoidae', 'supercategory': 'Sea fan'}, {'id': 197, 'name': 'Acanthogorgia', 'supercategory': 'Sea fan'}, {'id': 198, 'name': 'Gorgoniidae', 'supercategory': 'Sea fan'}, {'id': 199, 'name': 'Leptogorgia', 'supercategory': 'Sea fan'}, {'id': 200, 'name': 'Plexauridae', 'supercategory': 'Sea fan'}, {'id': 201, 'name': 'Swiftia', 'supercategory': 'Sea fan'}, {'id': 202, 'name': 'Swiftia kofoidi', 'supercategory': 'Sea fan'}, {'id': 203, 'name': 'Swiftia simplex', 'supercategory': 'Sea fan'}, {'id': 204, 'name': 'Corallium', 'supercategory': 'Sea fan'}, {'id': 205, 'name': 'Paragorgiidae', 'supercategory': 'Sea fan'}, {'id': 206, 'name': 'Paragorgia arborea', 'supercategory': 'Sea fan'}, {'id': 207, 'name': 'Alcyoniidae', 'supercategory': 'Soft coral'}, {'id': 208, 'name': 'Bathyalcyon robustum', 'supercategory': 'Soft coral'}, {'id': 209, 'name': 'Gersemia juliepackardae', 'supercategory': 'Soft coral'}, {'id': 210, 'name': 'Heteropolypus', 'supercategory': 'Soft coral'}, {'id': 211, 'name': 'Heteropolypus ritteri', 'supercategory': 'Soft coral'}, {'id': 212, 'name': 'Clavularia', 'supercategory': 'Soft coral'}, {'id': 213, 'name': 'Stolonifera', 'supercategory': 'Soft coral'}, {'id': 214, 'name': 'Acanthoptilum', 'supercategory': 'Sea pen'}, {'id': 215, 'name': 'Anthoptilum grandiflorum', 'supercategory': 'Sea pen'}, {'id': 216, 'name': 'Anthoptilum lithophilum', 'supercategory': 'Sea pen'}, {'id': 217, 'name': 'Distichoptilum gracile', 'supercategory': 'Sea pen'}, {'id': 218, 'name': 'Funiculina', 'supercategory': 'Sea pen'}, {'id': 219, 'name': 'Funiculina-Halipteris complex', 'supercategory': 'Sea pen'}, {'id': 220, 'name': 'Halipteris californica', 'supercategory': 'Sea pen'}, {'id': 221, 'name': 'Kophobelemnidae', 'supercategory': 'Sea pen'}, {'id': 222, 'name': 'Pennatula', 'supercategory': 'Sea pen'}, {'id': 223, 'name': 'Pennatula phosphorea', 'supercategory': 'Sea pen'}, {'id': 224, 'name': 'Pennatulacea', 'supercategory': 'Sea pen'}, {'id': 225, 'name': 'Protoptilum', 'supercategory': 'Sea pen'}, {'id': 226, 'name': 'Ptilosarcus gurneyi', 'supercategory': 'Sea pen'}, {'id': 227, 'name': 'Stylatula', 'supercategory': 'Sea pen'}, {'id': 228, 'name': 'Umbellula', 'supercategory': 'Sea pen'}, {'id': 229, 'name': 'Virgulariidae', 'supercategory': 'Sea pen'}, {'id': 230, 'name': 'Desmophyllum dianthus', 'supercategory': 'Stony coral'}, {'id': 231, 'name': 'Fungiacyathus (Bathyactis) marenzelleri', 'supercategory': 'Stony coral'}, {'id': 232, 'name': 'Scleractinia', 'supercategory': 'Stony coral'}, {'id': 233, 'name': 'Alternatipathes', 'supercategory': 'Black coral'}, {'id': 234, 'name': 'Antipatharia', 'supercategory': 'Black coral'}, {'id': 235, 'name': 'Heteropathes', 'supercategory': 'Black coral'}, {'id': 236, 'name': 'Lillipathes', 'supercategory': 'Black coral'}, {'id': 237, 'name': 'Parantipathes', 'supercategory': 'Black coral'}, {'id': 238, 'name': 'Schizopathidae', 'supercategory': 'Black coral'}, {'id': 239, 'name': 'Umbellapathes', 'supercategory': 'Black coral'}, {'id': 240, 'name': 'Brachyura', 'supercategory': 'Crab'}, {'id': 241, 'name': 'Cancridae', 'supercategory': 'Crab'}, {'id': 242, 'name': 'Chionoecetes tanneri', 'supercategory': 'Crab'}, {'id': 243, 'name': 'Chorilia longipes', 'supercategory': 'Crab'}, {'id': 244, 'name': 'Macroregonia macrochira', 'supercategory': 'Crab'}, {'id': 245, 'name': 'Majidae', 'supercategory': 'Crab'}, {'id': 246, 'name': 'Metacarcinus magister', 'supercategory': 'Crab'}, {'id': 247, 'name': 'Lithodes couesi', 'supercategory': 'Crab'}, {'id': 248, 'name': 'Lithodidae', 'supercategory': 'Crab'}, {'id': 249, 'name': 'Neolithodes diomedeae', 'supercategory': 'Crab'}, {'id': 250, 'name': 'Paralithodes rathbuni', 'supercategory': 'Crab'}, {'id': 251, 'name': 'Paralomis', 'supercategory': 'Crab'}, {'id': 252, 'name': 'Paralomis cf. papillata', 'supercategory': 'Crab'}, {'id': 253, 'name': 'Paralomis multispina', 'supercategory': 'Crab'}, {'id': 254, 'name': 'Paralomis verrilli', 'supercategory': 'Crab'}, {'id': 255, 'name': 'Caridea', 'supercategory': 'Shrimp'}, {'id': 256, 'name': 'Eualus macrophthalmus', 'supercategory': 'Shrimp'}, {'id': 257, 'name': 'Pandalus', 'supercategory': 'Shrimp'}, {'id': 258, 'name': 'Pandalus ampla', 'supercategory': 'Shrimp'}, {'id': 259, 'name': 'Pandalus platyceros', 'supercategory': 'Shrimp'}, {'id': 260, 'name': 'Pasiphaea', 'supercategory': 'Shrimp'}, {'id': 261, 'name': 'Plesionika', 'supercategory': 'Shrimp'}, {'id': 262, 'name': 'Calocarides quinqueseriatus', 'supercategory': 'Shrimp'}, {'id': 263, 'name': 'Chirostylidae', 'supercategory': 'Squat lobster'}, {'id': 264, 'name': 'Galatheoidea', 'supercategory': 'Squat lobster'}, {'id': 265, 'name': 'Munida', 'supercategory': 'Squat lobster'}, {'id': 266, 'name': 'Munida bapensis', 'supercategory': 'Squat lobster'}, {'id': 267, 'name': 'Munida quadrispina', 'supercategory': 'Squat lobster'}, {'id': 268, 'name': 'Munidopsis', 'supercategory': 'Squat lobster'}, {'id': 269, 'name': 'Munidopsis depressa', 'supercategory': 'Squat lobster'}, {'id': 270, 'name': 'Munidopsis kensmithi', 'supercategory': 'Squat lobster'}, {'id': 271, 'name': 'Munidopsis lignaria', 'supercategory': 'Squat lobster'}, {'id': 272, 'name': 'Munidopsis recta', 'supercategory': 'Squat lobster'}, {'id': 273, 'name': 'Munidopsis scotti', 'supercategory': 'Squat lobster'}, {'id': 274, 'name': 'Pleuroncodes planipes', 'supercategory': 'Squat lobster'}, {'id': 275, 'name': 'Cirripedia', 'supercategory': 'Barnacle'}, {'id': 276, 'name': 'Scalpellidae', 'supercategory': 'Barnacle'}, {'id': 277, 'name': 'Verum proximum', 'supercategory': 'Barnacle'}, {'id': 278, 'name': 'Pycnogonida', 'supercategory': 'Sea spider'}, {'id': 279, 'name': 'Annelida', 'supercategory': 'Worm'}, {'id': 280, 'name': 'Canalipalpata', 'supercategory': 'Worm'}, {'id': 281, 'name': 'Echiura', 'supercategory': 'Worm'}, {'id': 282, 'name': 'Harmothoe', 'supercategory': 'Worm'}, {'id': 283, 'name': 'Hirudinea', 'supercategory': 'Worm'}, {'id': 284, 'name': 'Paradiopatra', 'supercategory': 'Worm'}, {'id': 285, 'name': 'Peinaleopolynoe orphanae', 'supercategory': 'Worm'}, {'id': 286, 'name': 'Polychaeta', 'supercategory': 'Worm'}, {'id': 287, 'name': 'Polynoidae', 'supercategory': 'Worm'}, {'id': 288, 'name': 'Sabellidae', 'supercategory': 'Worm'}, {'id': 289, 'name': 'Serpulidae', 'supercategory': 'Worm'}, {'id': 290, 'name': 'Terebellidae', 'supercategory': 'Worm'}]\n"
     ]
    }
   ],
   "source": [
    "# Inspect structure annotation_dict\n",
    "print(annotation_dict.keys())\n",
    "print(annotation_dict['info'])\n",
    "print(annotation_dict['licenses'])\n",
    "print(annotation_dict['images'][0])\n",
    "print(annotation_dict['annotations'][0])\n",
    "print(annotation_dict['categories'])\n",
    "# pd.DataFrame(annotation_dict[\"images\"])"
   ]
  },
  {
   "cell_type": "code",
   "execution_count": 24,
   "id": "f34fd5b5-89b3-4862-b999-d889b7b9fb03",
   "metadata": {},
   "outputs": [
    {
     "name": "stderr",
     "output_type": "stream",
     "text": [
      "100%|██████████| 15827/15827 [00:01<00:00, 8070.75it/s]\n"
     ]
    }
   ],
   "source": [
    "# removed the load_images_from_folder function. Nr of images are in the original eccv_18_all_images_sm folder (57864) is not needed.\n",
    "# filenames are in the annotation files see https://medium.com/red-buffer/converting-a-custom-dataset-from-coco-format-to-yolo-format-6d98a4fd43fc\n",
    "SCRATCH = os.getenv('SCRATCH')\n",
    "img_folder = SCRATCH + \"/Jorrit/datasets/CCT20_coco/eccv_18_all_images_sm/\" \n",
    "count = 0\n",
    "for img in tqdm(annotation_dict['images']): \n",
    "    filename= img['file_name']\n",
    "    source = os.path.join(img_folder,filename)\n",
    "    destination = f\"{output_path}images/img{count}.jpg\"\n",
    "    shutil.copy(source, destination)\n",
    "    count +=1"
   ]
  },
  {
   "cell_type": "code",
   "execution_count": 25,
   "id": "594c807c-09ac-4583-a596-3812bce8beeb",
   "metadata": {},
   "outputs": [],
   "source": [
    "def get_img_ann(image_id):\n",
    "    img_ann = []\n",
    "    isFound = False\n",
    "    for ann in annotation_dict['annotations']:\n",
    "        if ann['image_id'] == image_id:\n",
    "            img_ann.append(ann)\n",
    "            isFound = True\n",
    "    if isFound:\n",
    "        return img_ann\n",
    "    else:\n",
    "        return None"
   ]
  },
  {
   "cell_type": "code",
   "execution_count": 26,
   "id": "57e6b29d-2ce8-49e9-af0c-3368cb46bff0",
   "metadata": {},
   "outputs": [],
   "source": [
    "def get_img(filename):\n",
    "    for img in annotation_dict['images']:\n",
    "        if img['file_name'] == filename:\n",
    "            return img"
   ]
  },
  {
   "cell_type": "code",
   "execution_count": 27,
   "id": "f5595ae3-e94c-4438-b8ff-85b35f0dc66b",
   "metadata": {},
   "outputs": [
    {
     "name": "stdout",
     "output_type": "stream",
     "text": [
      "[{'id': 6, 'name': 'bobcat'}, {'id': 1, 'name': 'opossum'}, {'id': 30, 'name': 'empty'}, {'id': 9, 'name': 'coyote'}, {'id': 3, 'name': 'raccoon'}, {'id': 11, 'name': 'bird'}, {'id': 8, 'name': 'dog'}, {'id': 16, 'name': 'cat'}, {'id': 5, 'name': 'squirrel'}, {'id': 10, 'name': 'rabbit'}, {'id': 7, 'name': 'skunk'}, {'id': 99, 'name': 'rodent'}, {'id': 21, 'name': 'badger'}, {'id': 34, 'name': 'deer'}, {'id': 33, 'name': 'car'}, {'id': 51, 'name': 'fox'}]\n"
     ]
    }
   ],
   "source": [
    "print(annotation_dict['categories'])"
   ]
  },
  {
   "cell_type": "code",
   "execution_count": 30,
   "id": "00a8798e-753b-41c7-ab2c-d1701d51fea3",
   "metadata": {},
   "outputs": [
    {
     "name": "stdout",
     "output_type": "stream",
     "text": [
      "[1, 3, 5, 6, 7, 8, 9, 10, 11, 16, 21, 30, 33, 34, 51, 99]\n",
      "{1: 0, 3: 1, 5: 2, 6: 3, 7: 4, 8: 5, 9: 6, 10: 7, 11: 8, 16: 9, 21: 10, 30: 11, 33: 12, 34: 13, 51: 14, 99: 15}\n",
      "2\n"
     ]
    }
   ],
   "source": [
    "subset_cat_values = []\n",
    "for category in annotation_dict['categories']:\n",
    "    subset_cat_values.append(category['id'])\n",
    "subset_cat_values = sorted(subset_cat_values)\n",
    "print(subset_cat_values)\n",
    "\n",
    "subset2remap = {}\n",
    "for idx, value in enumerate(subset_cat_values):\n",
    "    subset2remap[value] = idx\n",
    "print(subset2remap)\n",
    "print(subset2remap[5])"
   ]
  },
  {
   "cell_type": "code",
   "execution_count": 29,
   "id": "87566ebb-34c6-4730-9a76-39ed6eba8447",
   "metadata": {},
   "outputs": [
    {
     "name": "stderr",
     "output_type": "stream",
     "text": [
      "100%|██████████| 15827/15827 [00:09<00:00, 1658.45it/s]\n"
     ]
    }
   ],
   "source": [
    "count = 0\n",
    "\n",
    "# Jorrit changed to loop over the annotation files instead of over filename list []. \n",
    "for img in tqdm(annotation_dict[\"images\"]):\n",
    "    img_id = img['id']\n",
    "    img_w = img['width']\n",
    "    img_h = img['height']\n",
    "\n",
    "    img_ann = get_img_ann(img_id)\n",
    "\n",
    "    if img_ann:\n",
    "        file_object = open(f\"{output_path}labels/img{count}.txt\", \"a\")\n",
    "\n",
    "        for ann in img_ann:\n",
    "            # Jorrit added an if statement to check if the annotation contains a bounding box\n",
    "            if \"bbox\" in ann:\n",
    "                current_category = ann['category_id'] # As yolo format labels start from 0 \n",
    "                remap_category = subset2remap[current_category] # J. remap the subset class value to the remaped class value\n",
    "                current_bbox = ann['bbox']\n",
    "                x = current_bbox[0]\n",
    "                y = current_bbox[1]\n",
    "                w = current_bbox[2]\n",
    "                h = current_bbox[3]\n",
    "\n",
    "                x_centre = (x + (x+w))/2 # Finding midpoints\n",
    "                y_centre = (y + (y+h))/2\n",
    "\n",
    "                x_centre = x_centre / img_w # Normalization\n",
    "                y_centre = y_centre / img_h\n",
    "                w = w / img_w\n",
    "                h = h / img_h\n",
    "\n",
    "                x_centre = format(x_centre, '.6f') # Limiting upto fix number of decimal places\n",
    "                y_centre = format(y_centre, '.6f')\n",
    "                w = format(w, '.6f')\n",
    "                h = format(h, '.6f')\n",
    "\n",
    "                file_object.write(f\"{remap_category} {x_centre} {y_centre} {w} {h}\\n\")  # J. changed current_category to remap_category\n",
    "\n",
    "        file_object.close()\n",
    "        count += 1  # This should be outside the if img_ann block."
   ]
  },
  {
   "cell_type": "code",
   "execution_count": null,
   "id": "ab4c4a00-3c72-4947-90d6-d775b25aeae6",
   "metadata": {},
   "outputs": [],
   "source": [
    "# after converted all images + labels to yolo format run the code below in the terminal and adapt it to your preference. \n",
    "# python train.py --data CCT20.yaml --epochs 3 --weights '' --cfg yolov5n.yaml  --batch-size 2"
   ]
  }
 ],
 "metadata": {
  "kernelspec": {
   "display_name": "Python 3 (ipykernel)",
   "language": "python",
   "name": "python3"
  },
  "language_info": {
   "codemirror_mode": {
    "name": "ipython",
    "version": 3
   },
   "file_extension": ".py",
   "mimetype": "text/x-python",
   "name": "python",
   "nbconvert_exporter": "python",
   "pygments_lexer": "ipython3",
   "version": "3.8.8"
  }
 },
 "nbformat": 4,
 "nbformat_minor": 5
}
